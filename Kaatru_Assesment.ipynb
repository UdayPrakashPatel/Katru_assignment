{
  "metadata": {
    "language_info": {
      "codemirror_mode": {
        "name": "python",
        "version": 3
      },
      "file_extension": ".py",
      "mimetype": "text/x-python",
      "name": "python",
      "nbconvert_exporter": "python",
      "pygments_lexer": "ipython3",
      "version": "3.8"
    },
    "kernelspec": {
      "name": "python",
      "display_name": "Python (Pyodide)",
      "language": "python"
    }
  },
  "nbformat_minor": 4,
  "nbformat": 4,
  "cells": [
    {
      "cell_type": "code",
      "source": "import numpy as np\nimport pandas as pd\nimport matplotlib.pyplot as plt\nimport seaborn as sns\nfrom sklearn.model_selection import train_test_split\nfrom sklearn.preprocessing import StandardScaler\nimport statsmodels.api as sm\nfrom statsmodels.stats.outliers_influence import variance_inflation_factor\nimport warnings\nwarnings.filterwarnings('ignore')\nfrom sklearn.linear_model import LinearRegression\nfrom sklearn.feature_selection import RFE\nfrom sklearn.model_selection import train_test_split\nfrom sklearn.metrics import r2_score\nfrom sklearn.preprocessing import MinMaxScaler",
      "metadata": {
        "trusted": true
      },
      "execution_count": 1,
      "outputs": []
    },
    {
      "cell_type": "code",
      "source": "bikeSharing_df = pd.read_csv('day.csv')",
      "metadata": {
        "trusted": true
      },
      "execution_count": 2,
      "outputs": []
    },
    {
      "cell_type": "code",
      "source": "bikeSharing_df.ndim",
      "metadata": {
        "trusted": true
      },
      "execution_count": 3,
      "outputs": [
        {
          "execution_count": 3,
          "output_type": "execute_result",
          "data": {
            "text/plain": "2"
          },
          "metadata": {}
        }
      ]
    },
    {
      "cell_type": "raw",
      "source": "##Cleaning Data",
      "metadata": {}
    },
    {
      "cell_type": "code",
      "source": "bikeSharing_df['days_old'] = (pd.to_datetime(bikeSharing_df['dteday'],format= '%d-%m-%Y') - pd.to_datetime('01-01-2018',format= '%d-%m-%Y')).dt.days",
      "metadata": {
        "trusted": true
      },
      "execution_count": 4,
      "outputs": []
    },
    {
      "cell_type": "code",
      "source": "bikeSharing_df.drop(['instant','dteday','casual','registered'], axis = 1, inplace = True)",
      "metadata": {
        "trusted": true
      },
      "execution_count": 5,
      "outputs": []
    },
    {
      "cell_type": "code",
      "source": "bikeSharing_df.head(1)",
      "metadata": {
        "trusted": true
      },
      "execution_count": 6,
      "outputs": [
        {
          "execution_count": 6,
          "output_type": "execute_result",
          "data": {
            "text/plain": "   season  yr  mnth  holiday  weekday  workingday  weathersit       temp  \\\n0       1   0     1        0        1           1           2  14.110847   \n\n      atemp      hum  windspeed  cnt  days_old  \n0  18.18125  80.5833  10.749882  985         0  ",
            "text/html": "<div>\n<style scoped>\n    .dataframe tbody tr th:only-of-type {\n        vertical-align: middle;\n    }\n\n    .dataframe tbody tr th {\n        vertical-align: top;\n    }\n\n    .dataframe thead th {\n        text-align: right;\n    }\n</style>\n<table border=\"1\" class=\"dataframe\">\n  <thead>\n    <tr style=\"text-align: right;\">\n      <th></th>\n      <th>season</th>\n      <th>yr</th>\n      <th>mnth</th>\n      <th>holiday</th>\n      <th>weekday</th>\n      <th>workingday</th>\n      <th>weathersit</th>\n      <th>temp</th>\n      <th>atemp</th>\n      <th>hum</th>\n      <th>windspeed</th>\n      <th>cnt</th>\n      <th>days_old</th>\n    </tr>\n  </thead>\n  <tbody>\n    <tr>\n      <th>0</th>\n      <td>1</td>\n      <td>0</td>\n      <td>1</td>\n      <td>0</td>\n      <td>1</td>\n      <td>1</td>\n      <td>2</td>\n      <td>14.110847</td>\n      <td>18.18125</td>\n      <td>80.5833</td>\n      <td>10.749882</td>\n      <td>985</td>\n      <td>0</td>\n    </tr>\n  </tbody>\n</table>\n</div>"
          },
          "metadata": {}
        }
      ]
    },
    {
      "cell_type": "code",
      "source": "bikeSharing_df.isnull().sum()",
      "metadata": {
        "trusted": true
      },
      "execution_count": 60,
      "outputs": [
        {
          "execution_count": 60,
          "output_type": "execute_result",
          "data": {
            "text/plain": "yr                     0\nholiday                0\nworkingday             0\ntemp                   0\natemp                  0\nhum                    0\nwindspeed              0\ndays_old               0\nseason_spring          0\nseason_summer          0\nseason_winter          0\nmnth_aug               0\nmnth_dec               0\nmnth_feb               0\nmnth_jan               0\nmnth_jul               0\nmnth_jun               0\nmnth_mar               0\nmnth_may               0\nmnth_nov               0\nmnth_oct               0\nmnth_sept              0\nweekday_mon            0\nweekday_sat            0\nweekday_sun            0\nweekday_thu            0\nweekday_tue            0\nweekday_wed            0\nweathersit_bad         0\nweathersit_good        0\nweathersit_moderate    0\ndtype: int64"
          },
          "metadata": {}
        }
      ]
    },
    {
      "cell_type": "code",
      "source": "bikeSharing_df.nunique()",
      "metadata": {
        "trusted": true
      },
      "execution_count": 61,
      "outputs": [
        {
          "execution_count": 61,
          "output_type": "execute_result",
          "data": {
            "text/plain": "yr                       2\nholiday                  2\nworkingday               2\ntemp                   498\natemp                  689\nhum                    594\nwindspeed              649\ndays_old               730\nseason_spring            2\nseason_summer            2\nseason_winter            2\nmnth_aug                 2\nmnth_dec                 2\nmnth_feb                 2\nmnth_jan                 2\nmnth_jul                 2\nmnth_jun                 2\nmnth_mar                 2\nmnth_may                 2\nmnth_nov                 2\nmnth_oct                 2\nmnth_sept                2\nweekday_mon              2\nweekday_sat              2\nweekday_sun              2\nweekday_thu              2\nweekday_tue              2\nweekday_wed              2\nweathersit_bad           2\nweathersit_good          2\nweathersit_moderate      2\ndtype: int64"
          },
          "metadata": {}
        }
      ]
    },
    {
      "cell_type": "code",
      "source": "cols = ['temp', 'atemp', 'hum', 'windspeed']\nplt.figure(figsize=(18,4))\n\ni = 1\nfor col in cols:\n    plt.subplot(1,4,i)\n    sns.boxplot(y=col, data=bikeSharing_df)\n    i+=1\n",
      "metadata": {},
      "execution_count": null,
      "outputs": []
    },
    {
      "cell_type": "code",
      "source": "bikeSharing_df.season.value_counts()",
      "metadata": {
        "trusted": true
      },
      "execution_count": 7,
      "outputs": [
        {
          "execution_count": 7,
          "output_type": "execute_result",
          "data": {
            "text/plain": "3    188\n2    184\n1    180\n4    178\nName: season, dtype: int64"
          },
          "metadata": {}
        }
      ]
    },
    {
      "cell_type": "code",
      "source": "bikeSharing_df.weathersit.value_counts()",
      "metadata": {
        "trusted": true
      },
      "execution_count": 8,
      "outputs": [
        {
          "execution_count": 8,
          "output_type": "execute_result",
          "data": {
            "text/plain": "1    463\n2    246\n3     21\nName: weathersit, dtype: int64"
          },
          "metadata": {}
        }
      ]
    },
    {
      "cell_type": "code",
      "source": "bikeSharing_df.season.replace({1:\"spring\", 2:\"summer\", 3:\"fall\", 4:\"winter\"},inplace = True)\n\nbikeSharing_df.weathersit.replace({1:'good',2:'moderate',3:'bad',4:'severe'},inplace = True)\n\nbikeSharing_df.mnth = bikeSharing_df.mnth.replace({1: 'jan',2: 'feb',3: 'mar',4: 'apr',5: 'may',6: 'jun',\n                  7: 'jul',8: 'aug',9: 'sept',10: 'oct',11: 'nov',12: 'dec'})\n\nbikeSharing_df.weekday = bikeSharing_df.weekday.replace({0: 'sun',1: 'mon',2: 'tue',3: 'wed',4: 'thu',5: 'fri',6: 'sat'})\nbikeSharing_df.head()",
      "metadata": {
        "trusted": true
      },
      "execution_count": 9,
      "outputs": [
        {
          "execution_count": 9,
          "output_type": "execute_result",
          "data": {
            "text/plain": "   season  yr mnth  holiday weekday  workingday weathersit       temp  \\\n0  spring   0  jan        0     mon           1   moderate  14.110847   \n1  spring   0  jan        0     tue           1   moderate  14.902598   \n2  spring   0  jan        0     wed           1       good   8.050924   \n3  spring   0  jan        0     thu           1       good   8.200000   \n4  spring   0  jan        0     fri           1       good   9.305237   \n\n      atemp      hum  windspeed   cnt  days_old  \n0  18.18125  80.5833  10.749882   985         0  \n1  17.68695  69.6087  16.652113   801         1  \n2   9.47025  43.7273  16.636703  1349         2  \n3  10.60610  59.0435  10.739832  1562         3  \n4  11.46350  43.6957  12.522300  1600         4  ",
            "text/html": "<div>\n<style scoped>\n    .dataframe tbody tr th:only-of-type {\n        vertical-align: middle;\n    }\n\n    .dataframe tbody tr th {\n        vertical-align: top;\n    }\n\n    .dataframe thead th {\n        text-align: right;\n    }\n</style>\n<table border=\"1\" class=\"dataframe\">\n  <thead>\n    <tr style=\"text-align: right;\">\n      <th></th>\n      <th>season</th>\n      <th>yr</th>\n      <th>mnth</th>\n      <th>holiday</th>\n      <th>weekday</th>\n      <th>workingday</th>\n      <th>weathersit</th>\n      <th>temp</th>\n      <th>atemp</th>\n      <th>hum</th>\n      <th>windspeed</th>\n      <th>cnt</th>\n      <th>days_old</th>\n    </tr>\n  </thead>\n  <tbody>\n    <tr>\n      <th>0</th>\n      <td>spring</td>\n      <td>0</td>\n      <td>jan</td>\n      <td>0</td>\n      <td>mon</td>\n      <td>1</td>\n      <td>moderate</td>\n      <td>14.110847</td>\n      <td>18.18125</td>\n      <td>80.5833</td>\n      <td>10.749882</td>\n      <td>985</td>\n      <td>0</td>\n    </tr>\n    <tr>\n      <th>1</th>\n      <td>spring</td>\n      <td>0</td>\n      <td>jan</td>\n      <td>0</td>\n      <td>tue</td>\n      <td>1</td>\n      <td>moderate</td>\n      <td>14.902598</td>\n      <td>17.68695</td>\n      <td>69.6087</td>\n      <td>16.652113</td>\n      <td>801</td>\n      <td>1</td>\n    </tr>\n    <tr>\n      <th>2</th>\n      <td>spring</td>\n      <td>0</td>\n      <td>jan</td>\n      <td>0</td>\n      <td>wed</td>\n      <td>1</td>\n      <td>good</td>\n      <td>8.050924</td>\n      <td>9.47025</td>\n      <td>43.7273</td>\n      <td>16.636703</td>\n      <td>1349</td>\n      <td>2</td>\n    </tr>\n    <tr>\n      <th>3</th>\n      <td>spring</td>\n      <td>0</td>\n      <td>jan</td>\n      <td>0</td>\n      <td>thu</td>\n      <td>1</td>\n      <td>good</td>\n      <td>8.200000</td>\n      <td>10.60610</td>\n      <td>59.0435</td>\n      <td>10.739832</td>\n      <td>1562</td>\n      <td>3</td>\n    </tr>\n    <tr>\n      <th>4</th>\n      <td>spring</td>\n      <td>0</td>\n      <td>jan</td>\n      <td>0</td>\n      <td>fri</td>\n      <td>1</td>\n      <td>good</td>\n      <td>9.305237</td>\n      <td>11.46350</td>\n      <td>43.6957</td>\n      <td>12.522300</td>\n      <td>1600</td>\n      <td>4</td>\n    </tr>\n  </tbody>\n</table>\n</div>"
          },
          "metadata": {}
        }
      ]
    },
    {
      "cell_type": "code",
      "source": "plt.figure(figsize = (15,30))\nsns.pairplot(data=bikeSharing_df,vars=['cnt', 'temp', 'atemp', 'hum','windspeed'])\nplt.show()",
      "metadata": {},
      "execution_count": null,
      "outputs": []
    },
    {
      "cell_type": "code",
      "source": "plt.figure(figsize=(20,15))\nsns.pairplot(bikeSharing_df)\nplt.show()",
      "metadata": {},
      "execution_count": null,
      "outputs": []
    },
    {
      "cell_type": "code",
      "source": "sns.heatmap(bikeSharing_df[['temp','atemp','hum','windspeed','cnt']].corr(), cmap='BuGn', annot = True)\nplt.show()",
      "metadata": {},
      "execution_count": null,
      "outputs": []
    },
    {
      "cell_type": "code",
      "source": "cor=bikeSharing_df.corr()\nsns.heatmap(cor, cmap=\"YlGnBu\", annot = True)\nplt.show()",
      "metadata": {},
      "execution_count": null,
      "outputs": []
    },
    {
      "cell_type": "code",
      "source": "corr = bikeSharing_df.corr()\nplt.figure(figsize=(25,10))\nsns.heatmap(corr,annot=True, cmap='YlGnBu' )\nplt.show()",
      "metadata": {},
      "execution_count": null,
      "outputs": []
    },
    {
      "cell_type": "code",
      "source": "vars_cat = ['season','yr','mnth','holiday','weekday','workingday','weathersit']\nplt.figure(figsize=(15, 15))\nfor i in enumerate(vars_cat):\n    plt.subplot(3,3,i[0]+1)\n    sns.boxplot(data=bikeSharing_df, x=i[1], y='cnt')\nplt.show()",
      "metadata": {},
      "execution_count": null,
      "outputs": []
    },
    {
      "cell_type": "code",
      "source": "plt.figure(figsize=(6,5),dpi=110)\nplt.title(\"Cnt vs Temp\",fontsize=16)\nsns.regplot(data=bikeSharing_df,y=\"cnt\",x=\"temp\")\nplt.xlabel(\"Temperature\")\nplt.show()",
      "metadata": {},
      "execution_count": null,
      "outputs": []
    },
    {
      "cell_type": "code",
      "source": "plt.figure(figsize=(6,5),dpi=110)\nplt.title(\"Cnt vs Hum\",fontsize=16)\nsns.regplot(data=bikeSharing_df,y=\"cnt\",x=\"hum\")\nplt.xlabel(\"Humidity\")\nplt.show()",
      "metadata": {},
      "execution_count": null,
      "outputs": []
    },
    {
      "cell_type": "code",
      "source": "plt.figure(figsize=(6,5),dpi=110)\nplt.title(\"Cnt vs Windspeed\",fontsize=16)\nsns.regplot(data=bikeSharing_df,y=\"cnt\",x=\"windspeed\")\nplt.show()",
      "metadata": {},
      "execution_count": null,
      "outputs": []
    },
    {
      "cell_type": "code",
      "source": "num_features = [\"temp\",\"atemp\",\"hum\",\"windspeed\",\"cnt\"]\nplt.figure(figsize=(15,8),dpi=130)\nplt.title(\"Correlation of numeric features\",fontsize=16)\nsns.heatmap(bikeSharing_df[num_features].corr(),annot= True,cmap=\"mako\")\nplt.show()",
      "metadata": {},
      "execution_count": null,
      "outputs": []
    },
    {
      "cell_type": "code",
      "source": "",
      "metadata": {},
      "execution_count": null,
      "outputs": []
    },
    {
      "cell_type": "code",
      "source": "##########################################################",
      "metadata": {},
      "execution_count": null,
      "outputs": []
    }
  ]
}